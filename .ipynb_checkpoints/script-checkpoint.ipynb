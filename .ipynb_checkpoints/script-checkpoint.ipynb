{
 "cells": [
  {
   "cell_type": "markdown",
   "metadata": {},
   "source": [
    "## Import libraries"
   ]
  },
  {
   "cell_type": "code",
   "execution_count": 68,
   "metadata": {
    "collapsed": true
   },
   "outputs": [],
   "source": [
    "import pandas as pd\n",
    "import numpy as np"
   ]
  },
  {
   "cell_type": "markdown",
   "metadata": {},
   "source": [
    "## Import the dataset"
   ]
  },
  {
   "cell_type": "code",
   "execution_count": 3,
   "metadata": {
    "collapsed": true
   },
   "outputs": [],
   "source": [
    "train = pd.read_csv('input/ford_train.csv')\n",
    "test = pd.read_csv('input/ford_test.csv')\n",
    "solution = pd.read_csv('input/solution.csv')"
   ]
  },
  {
   "cell_type": "code",
   "execution_count": 4,
   "metadata": {},
   "outputs": [
    {
     "data": {
      "text/html": [
       "<div>\n",
       "<style>\n",
       "    .dataframe thead tr:only-child th {\n",
       "        text-align: right;\n",
       "    }\n",
       "\n",
       "    .dataframe thead th {\n",
       "        text-align: left;\n",
       "    }\n",
       "\n",
       "    .dataframe tbody tr th {\n",
       "        vertical-align: top;\n",
       "    }\n",
       "</style>\n",
       "<table border=\"1\" class=\"dataframe\">\n",
       "  <thead>\n",
       "    <tr style=\"text-align: right;\">\n",
       "      <th></th>\n",
       "      <th>TrialID</th>\n",
       "      <th>ObsNum</th>\n",
       "      <th>IsAlert</th>\n",
       "      <th>P1</th>\n",
       "      <th>P2</th>\n",
       "      <th>P3</th>\n",
       "      <th>P4</th>\n",
       "      <th>P5</th>\n",
       "      <th>P6</th>\n",
       "      <th>P7</th>\n",
       "      <th>...</th>\n",
       "      <th>V2</th>\n",
       "      <th>V3</th>\n",
       "      <th>V4</th>\n",
       "      <th>V5</th>\n",
       "      <th>V6</th>\n",
       "      <th>V7</th>\n",
       "      <th>V8</th>\n",
       "      <th>V9</th>\n",
       "      <th>V10</th>\n",
       "      <th>V11</th>\n",
       "    </tr>\n",
       "  </thead>\n",
       "  <tbody>\n",
       "    <tr>\n",
       "      <th>0</th>\n",
       "      <td>0</td>\n",
       "      <td>0</td>\n",
       "      <td>0</td>\n",
       "      <td>34.7406</td>\n",
       "      <td>9.84593</td>\n",
       "      <td>1400</td>\n",
       "      <td>42.8571</td>\n",
       "      <td>0.290601</td>\n",
       "      <td>572</td>\n",
       "      <td>104.895</td>\n",
       "      <td>...</td>\n",
       "      <td>0.175</td>\n",
       "      <td>752</td>\n",
       "      <td>5.99375</td>\n",
       "      <td>0</td>\n",
       "      <td>2005</td>\n",
       "      <td>0</td>\n",
       "      <td>13.4</td>\n",
       "      <td>0</td>\n",
       "      <td>4</td>\n",
       "      <td>14.8004</td>\n",
       "    </tr>\n",
       "    <tr>\n",
       "      <th>1</th>\n",
       "      <td>0</td>\n",
       "      <td>1</td>\n",
       "      <td>0</td>\n",
       "      <td>34.4215</td>\n",
       "      <td>13.41120</td>\n",
       "      <td>1400</td>\n",
       "      <td>42.8571</td>\n",
       "      <td>0.290601</td>\n",
       "      <td>572</td>\n",
       "      <td>104.895</td>\n",
       "      <td>...</td>\n",
       "      <td>0.455</td>\n",
       "      <td>752</td>\n",
       "      <td>5.99375</td>\n",
       "      <td>0</td>\n",
       "      <td>2007</td>\n",
       "      <td>0</td>\n",
       "      <td>13.4</td>\n",
       "      <td>0</td>\n",
       "      <td>4</td>\n",
       "      <td>14.7729</td>\n",
       "    </tr>\n",
       "    <tr>\n",
       "      <th>2</th>\n",
       "      <td>0</td>\n",
       "      <td>2</td>\n",
       "      <td>0</td>\n",
       "      <td>34.3447</td>\n",
       "      <td>15.18520</td>\n",
       "      <td>1400</td>\n",
       "      <td>42.8571</td>\n",
       "      <td>0.290601</td>\n",
       "      <td>576</td>\n",
       "      <td>104.167</td>\n",
       "      <td>...</td>\n",
       "      <td>0.280</td>\n",
       "      <td>752</td>\n",
       "      <td>5.99375</td>\n",
       "      <td>0</td>\n",
       "      <td>2011</td>\n",
       "      <td>0</td>\n",
       "      <td>13.4</td>\n",
       "      <td>0</td>\n",
       "      <td>4</td>\n",
       "      <td>14.7736</td>\n",
       "    </tr>\n",
       "    <tr>\n",
       "      <th>3</th>\n",
       "      <td>0</td>\n",
       "      <td>3</td>\n",
       "      <td>0</td>\n",
       "      <td>34.3421</td>\n",
       "      <td>8.84696</td>\n",
       "      <td>1400</td>\n",
       "      <td>42.8571</td>\n",
       "      <td>0.290601</td>\n",
       "      <td>576</td>\n",
       "      <td>104.167</td>\n",
       "      <td>...</td>\n",
       "      <td>0.070</td>\n",
       "      <td>752</td>\n",
       "      <td>5.99375</td>\n",
       "      <td>0</td>\n",
       "      <td>2015</td>\n",
       "      <td>0</td>\n",
       "      <td>13.4</td>\n",
       "      <td>0</td>\n",
       "      <td>4</td>\n",
       "      <td>14.7667</td>\n",
       "    </tr>\n",
       "    <tr>\n",
       "      <th>4</th>\n",
       "      <td>0</td>\n",
       "      <td>4</td>\n",
       "      <td>0</td>\n",
       "      <td>34.3322</td>\n",
       "      <td>14.69940</td>\n",
       "      <td>1400</td>\n",
       "      <td>42.8571</td>\n",
       "      <td>0.290601</td>\n",
       "      <td>576</td>\n",
       "      <td>104.167</td>\n",
       "      <td>...</td>\n",
       "      <td>0.175</td>\n",
       "      <td>752</td>\n",
       "      <td>5.99375</td>\n",
       "      <td>0</td>\n",
       "      <td>2017</td>\n",
       "      <td>0</td>\n",
       "      <td>13.4</td>\n",
       "      <td>0</td>\n",
       "      <td>4</td>\n",
       "      <td>14.7757</td>\n",
       "    </tr>\n",
       "  </tbody>\n",
       "</table>\n",
       "<p>5 rows × 33 columns</p>\n",
       "</div>"
      ],
      "text/plain": [
       "   TrialID  ObsNum  IsAlert       P1        P2    P3       P4        P5   P6  \\\n",
       "0        0       0        0  34.7406   9.84593  1400  42.8571  0.290601  572   \n",
       "1        0       1        0  34.4215  13.41120  1400  42.8571  0.290601  572   \n",
       "2        0       2        0  34.3447  15.18520  1400  42.8571  0.290601  576   \n",
       "3        0       3        0  34.3421   8.84696  1400  42.8571  0.290601  576   \n",
       "4        0       4        0  34.3322  14.69940  1400  42.8571  0.290601  576   \n",
       "\n",
       "        P7   ...        V2   V3       V4  V5    V6  V7    V8  V9  V10      V11  \n",
       "0  104.895   ...     0.175  752  5.99375   0  2005   0  13.4   0    4  14.8004  \n",
       "1  104.895   ...     0.455  752  5.99375   0  2007   0  13.4   0    4  14.7729  \n",
       "2  104.167   ...     0.280  752  5.99375   0  2011   0  13.4   0    4  14.7736  \n",
       "3  104.167   ...     0.070  752  5.99375   0  2015   0  13.4   0    4  14.7667  \n",
       "4  104.167   ...     0.175  752  5.99375   0  2017   0  13.4   0    4  14.7757  \n",
       "\n",
       "[5 rows x 33 columns]"
      ]
     },
     "execution_count": 4,
     "metadata": {},
     "output_type": "execute_result"
    }
   ],
   "source": [
    "train.head()"
   ]
  },
  {
   "cell_type": "code",
   "execution_count": 6,
   "metadata": {},
   "outputs": [
    {
     "name": "stdout",
     "output_type": "stream",
     "text": [
      "<class 'pandas.core.frame.DataFrame'>\n",
      "RangeIndex: 604329 entries, 0 to 604328\n",
      "Data columns (total 33 columns):\n",
      "TrialID    604329 non-null int64\n",
      "ObsNum     604329 non-null int64\n",
      "IsAlert    604329 non-null int64\n",
      "P1         604329 non-null float64\n",
      "P2         604329 non-null float64\n",
      "P3         604329 non-null int64\n",
      "P4         604329 non-null float64\n",
      "P5         604329 non-null float64\n",
      "P6         604329 non-null int64\n",
      "P7         604329 non-null float64\n",
      "P8         604329 non-null int64\n",
      "E1         604329 non-null float64\n",
      "E2         604329 non-null float64\n",
      "E3         604329 non-null int64\n",
      "E4         604329 non-null int64\n",
      "E5         604329 non-null float64\n",
      "E6         604329 non-null int64\n",
      "E7         604329 non-null int64\n",
      "E8         604329 non-null int64\n",
      "E9         604329 non-null int64\n",
      "E10        604329 non-null int64\n",
      "E11        604329 non-null float64\n",
      "V1         604329 non-null float64\n",
      "V2         604329 non-null float64\n",
      "V3         604329 non-null int64\n",
      "V4         604329 non-null float64\n",
      "V5         604329 non-null int64\n",
      "V6         604329 non-null int64\n",
      "V7         604329 non-null int64\n",
      "V8         604329 non-null float64\n",
      "V9         604329 non-null int64\n",
      "V10        604329 non-null int64\n",
      "V11        604329 non-null float64\n",
      "dtypes: float64(14), int64(19)\n",
      "memory usage: 152.2 MB\n"
     ]
    }
   ],
   "source": [
    "train.info()"
   ]
  },
  {
   "cell_type": "code",
   "execution_count": 67,
   "metadata": {},
   "outputs": [
    {
     "data": {
      "text/html": [
       "<div>\n",
       "<style>\n",
       "    .dataframe thead tr:only-child th {\n",
       "        text-align: right;\n",
       "    }\n",
       "\n",
       "    .dataframe thead th {\n",
       "        text-align: left;\n",
       "    }\n",
       "\n",
       "    .dataframe tbody tr th {\n",
       "        vertical-align: top;\n",
       "    }\n",
       "</style>\n",
       "<table border=\"1\" class=\"dataframe\">\n",
       "  <thead>\n",
       "    <tr style=\"text-align: right;\">\n",
       "      <th></th>\n",
       "      <th>TrialID</th>\n",
       "      <th>ObsNum</th>\n",
       "      <th>IsAlert</th>\n",
       "      <th>P1</th>\n",
       "      <th>P2</th>\n",
       "      <th>P3</th>\n",
       "      <th>P4</th>\n",
       "      <th>P5</th>\n",
       "      <th>P6</th>\n",
       "      <th>P7</th>\n",
       "      <th>...</th>\n",
       "      <th>V2</th>\n",
       "      <th>V3</th>\n",
       "      <th>V4</th>\n",
       "      <th>V5</th>\n",
       "      <th>V6</th>\n",
       "      <th>V7</th>\n",
       "      <th>V8</th>\n",
       "      <th>V9</th>\n",
       "      <th>V10</th>\n",
       "      <th>V11</th>\n",
       "    </tr>\n",
       "  </thead>\n",
       "  <tbody>\n",
       "    <tr>\n",
       "      <th>count</th>\n",
       "      <td>604329.000000</td>\n",
       "      <td>604329.000000</td>\n",
       "      <td>604329.000000</td>\n",
       "      <td>604329.000000</td>\n",
       "      <td>604329.000000</td>\n",
       "      <td>604329.000000</td>\n",
       "      <td>604329.000000</td>\n",
       "      <td>604329.000000</td>\n",
       "      <td>604329.000000</td>\n",
       "      <td>604329.000000</td>\n",
       "      <td>...</td>\n",
       "      <td>604329.000000</td>\n",
       "      <td>604329.000000</td>\n",
       "      <td>604329.000000</td>\n",
       "      <td>604329.000000</td>\n",
       "      <td>604329.000000</td>\n",
       "      <td>604329.0</td>\n",
       "      <td>604329.000000</td>\n",
       "      <td>604329.0</td>\n",
       "      <td>604329.000000</td>\n",
       "      <td>604329.000000</td>\n",
       "    </tr>\n",
       "    <tr>\n",
       "      <th>mean</th>\n",
       "      <td>250.167657</td>\n",
       "      <td>603.841765</td>\n",
       "      <td>0.578799</td>\n",
       "      <td>35.449020</td>\n",
       "      <td>11.996525</td>\n",
       "      <td>1026.671035</td>\n",
       "      <td>64.061965</td>\n",
       "      <td>0.178923</td>\n",
       "      <td>845.384610</td>\n",
       "      <td>77.887628</td>\n",
       "      <td>...</td>\n",
       "      <td>-0.037710</td>\n",
       "      <td>573.786433</td>\n",
       "      <td>19.961030</td>\n",
       "      <td>0.179814</td>\n",
       "      <td>1715.688383</td>\n",
       "      <td>0.0</td>\n",
       "      <td>12.710354</td>\n",
       "      <td>0.0</td>\n",
       "      <td>3.312257</td>\n",
       "      <td>11.668277</td>\n",
       "    </tr>\n",
       "    <tr>\n",
       "      <th>std</th>\n",
       "      <td>145.446164</td>\n",
       "      <td>348.931601</td>\n",
       "      <td>0.493752</td>\n",
       "      <td>7.484629</td>\n",
       "      <td>3.760292</td>\n",
       "      <td>309.277877</td>\n",
       "      <td>19.755950</td>\n",
       "      <td>0.372309</td>\n",
       "      <td>2505.335141</td>\n",
       "      <td>18.577930</td>\n",
       "      <td>...</td>\n",
       "      <td>0.403896</td>\n",
       "      <td>298.412888</td>\n",
       "      <td>63.269456</td>\n",
       "      <td>0.384033</td>\n",
       "      <td>618.176470</td>\n",
       "      <td>0.0</td>\n",
       "      <td>11.532085</td>\n",
       "      <td>0.0</td>\n",
       "      <td>1.243586</td>\n",
       "      <td>9.934423</td>\n",
       "    </tr>\n",
       "    <tr>\n",
       "      <th>min</th>\n",
       "      <td>0.000000</td>\n",
       "      <td>0.000000</td>\n",
       "      <td>0.000000</td>\n",
       "      <td>-22.481200</td>\n",
       "      <td>-45.629200</td>\n",
       "      <td>504.000000</td>\n",
       "      <td>23.885300</td>\n",
       "      <td>0.038920</td>\n",
       "      <td>128.000000</td>\n",
       "      <td>0.262224</td>\n",
       "      <td>...</td>\n",
       "      <td>-4.795000</td>\n",
       "      <td>240.000000</td>\n",
       "      <td>0.000000</td>\n",
       "      <td>0.000000</td>\n",
       "      <td>0.000000</td>\n",
       "      <td>0.0</td>\n",
       "      <td>0.000000</td>\n",
       "      <td>0.0</td>\n",
       "      <td>1.000000</td>\n",
       "      <td>1.676730</td>\n",
       "    </tr>\n",
       "    <tr>\n",
       "      <th>25%</th>\n",
       "      <td>125.000000</td>\n",
       "      <td>302.000000</td>\n",
       "      <td>0.000000</td>\n",
       "      <td>31.758100</td>\n",
       "      <td>9.903540</td>\n",
       "      <td>792.000000</td>\n",
       "      <td>49.180300</td>\n",
       "      <td>0.092110</td>\n",
       "      <td>668.000000</td>\n",
       "      <td>66.666700</td>\n",
       "      <td>...</td>\n",
       "      <td>-0.175000</td>\n",
       "      <td>255.000000</td>\n",
       "      <td>1.487500</td>\n",
       "      <td>0.000000</td>\n",
       "      <td>1259.000000</td>\n",
       "      <td>0.0</td>\n",
       "      <td>0.000000</td>\n",
       "      <td>0.0</td>\n",
       "      <td>3.000000</td>\n",
       "      <td>7.947680</td>\n",
       "    </tr>\n",
       "    <tr>\n",
       "      <th>50%</th>\n",
       "      <td>250.000000</td>\n",
       "      <td>604.000000</td>\n",
       "      <td>1.000000</td>\n",
       "      <td>34.145100</td>\n",
       "      <td>11.400400</td>\n",
       "      <td>1000.000000</td>\n",
       "      <td>60.000000</td>\n",
       "      <td>0.105083</td>\n",
       "      <td>800.000000</td>\n",
       "      <td>75.000000</td>\n",
       "      <td>...</td>\n",
       "      <td>0.000000</td>\n",
       "      <td>511.000000</td>\n",
       "      <td>3.018750</td>\n",
       "      <td>0.000000</td>\n",
       "      <td>1994.000000</td>\n",
       "      <td>0.0</td>\n",
       "      <td>12.800000</td>\n",
       "      <td>0.0</td>\n",
       "      <td>4.000000</td>\n",
       "      <td>10.772600</td>\n",
       "    </tr>\n",
       "    <tr>\n",
       "      <th>75%</th>\n",
       "      <td>374.000000</td>\n",
       "      <td>906.000000</td>\n",
       "      <td>1.000000</td>\n",
       "      <td>37.311900</td>\n",
       "      <td>13.644200</td>\n",
       "      <td>1220.000000</td>\n",
       "      <td>75.757600</td>\n",
       "      <td>0.138814</td>\n",
       "      <td>900.000000</td>\n",
       "      <td>89.820400</td>\n",
       "      <td>...</td>\n",
       "      <td>0.070000</td>\n",
       "      <td>767.000000</td>\n",
       "      <td>7.481250</td>\n",
       "      <td>0.000000</td>\n",
       "      <td>2146.000000</td>\n",
       "      <td>0.0</td>\n",
       "      <td>21.900000</td>\n",
       "      <td>0.0</td>\n",
       "      <td>4.000000</td>\n",
       "      <td>15.270900</td>\n",
       "    </tr>\n",
       "    <tr>\n",
       "      <th>max</th>\n",
       "      <td>510.000000</td>\n",
       "      <td>1210.000000</td>\n",
       "      <td>1.000000</td>\n",
       "      <td>101.351000</td>\n",
       "      <td>71.173700</td>\n",
       "      <td>2512.000000</td>\n",
       "      <td>119.048000</td>\n",
       "      <td>27.202200</td>\n",
       "      <td>228812.000000</td>\n",
       "      <td>468.750000</td>\n",
       "      <td>...</td>\n",
       "      <td>3.990000</td>\n",
       "      <td>1023.000000</td>\n",
       "      <td>484.488000</td>\n",
       "      <td>1.000000</td>\n",
       "      <td>4892.000000</td>\n",
       "      <td>0.0</td>\n",
       "      <td>82.100000</td>\n",
       "      <td>0.0</td>\n",
       "      <td>7.000000</td>\n",
       "      <td>262.534000</td>\n",
       "    </tr>\n",
       "  </tbody>\n",
       "</table>\n",
       "<p>8 rows × 33 columns</p>\n",
       "</div>"
      ],
      "text/plain": [
       "             TrialID         ObsNum        IsAlert             P1  \\\n",
       "count  604329.000000  604329.000000  604329.000000  604329.000000   \n",
       "mean      250.167657     603.841765       0.578799      35.449020   \n",
       "std       145.446164     348.931601       0.493752       7.484629   \n",
       "min         0.000000       0.000000       0.000000     -22.481200   \n",
       "25%       125.000000     302.000000       0.000000      31.758100   \n",
       "50%       250.000000     604.000000       1.000000      34.145100   \n",
       "75%       374.000000     906.000000       1.000000      37.311900   \n",
       "max       510.000000    1210.000000       1.000000     101.351000   \n",
       "\n",
       "                  P2             P3             P4             P5  \\\n",
       "count  604329.000000  604329.000000  604329.000000  604329.000000   \n",
       "mean       11.996525    1026.671035      64.061965       0.178923   \n",
       "std         3.760292     309.277877      19.755950       0.372309   \n",
       "min       -45.629200     504.000000      23.885300       0.038920   \n",
       "25%         9.903540     792.000000      49.180300       0.092110   \n",
       "50%        11.400400    1000.000000      60.000000       0.105083   \n",
       "75%        13.644200    1220.000000      75.757600       0.138814   \n",
       "max        71.173700    2512.000000     119.048000      27.202200   \n",
       "\n",
       "                  P6             P7      ...                   V2  \\\n",
       "count  604329.000000  604329.000000      ...        604329.000000   \n",
       "mean      845.384610      77.887628      ...            -0.037710   \n",
       "std      2505.335141      18.577930      ...             0.403896   \n",
       "min       128.000000       0.262224      ...            -4.795000   \n",
       "25%       668.000000      66.666700      ...            -0.175000   \n",
       "50%       800.000000      75.000000      ...             0.000000   \n",
       "75%       900.000000      89.820400      ...             0.070000   \n",
       "max    228812.000000     468.750000      ...             3.990000   \n",
       "\n",
       "                  V3             V4             V5             V6        V7  \\\n",
       "count  604329.000000  604329.000000  604329.000000  604329.000000  604329.0   \n",
       "mean      573.786433      19.961030       0.179814    1715.688383       0.0   \n",
       "std       298.412888      63.269456       0.384033     618.176470       0.0   \n",
       "min       240.000000       0.000000       0.000000       0.000000       0.0   \n",
       "25%       255.000000       1.487500       0.000000    1259.000000       0.0   \n",
       "50%       511.000000       3.018750       0.000000    1994.000000       0.0   \n",
       "75%       767.000000       7.481250       0.000000    2146.000000       0.0   \n",
       "max      1023.000000     484.488000       1.000000    4892.000000       0.0   \n",
       "\n",
       "                  V8        V9            V10            V11  \n",
       "count  604329.000000  604329.0  604329.000000  604329.000000  \n",
       "mean       12.710354       0.0       3.312257      11.668277  \n",
       "std        11.532085       0.0       1.243586       9.934423  \n",
       "min         0.000000       0.0       1.000000       1.676730  \n",
       "25%         0.000000       0.0       3.000000       7.947680  \n",
       "50%        12.800000       0.0       4.000000      10.772600  \n",
       "75%        21.900000       0.0       4.000000      15.270900  \n",
       "max        82.100000       0.0       7.000000     262.534000  \n",
       "\n",
       "[8 rows x 33 columns]"
      ]
     },
     "execution_count": 67,
     "metadata": {},
     "output_type": "execute_result"
    }
   ],
   "source": [
    "train.describe()"
   ]
  },
  {
   "cell_type": "markdown",
   "metadata": {},
   "source": [
    "## Feature scaling"
   ]
  },
  {
   "cell_type": "code",
   "execution_count": 23,
   "metadata": {
    "collapsed": true
   },
   "outputs": [],
   "source": [
    "from sklearn.preprocessing import StandardScaler"
   ]
  },
  {
   "cell_type": "code",
   "execution_count": 33,
   "metadata": {},
   "outputs": [
    {
     "data": {
      "text/plain": [
       "StandardScaler(copy=True, with_mean=True, with_std=True)"
      ]
     },
     "execution_count": 33,
     "metadata": {},
     "output_type": "execute_result"
    }
   ],
   "source": [
    "train_data_to_scale = train.drop('IsAlert', axis=1)\n",
    "test_data_to_scale = test.drop('IsAlert', axis=1)\n",
    "\n",
    "scaler = StandardScaler()\n",
    "scaler.fit(train_data_to_scale)"
   ]
  },
  {
   "cell_type": "markdown",
   "metadata": {},
   "source": [
    "## Training data and testing data"
   ]
  },
  {
   "cell_type": "code",
   "execution_count": 69,
   "metadata": {},
   "outputs": [],
   "source": [
    "X_train = pd.DataFrame(data=scaler.transform(train_data_to_scale), columns=train_data_to_scale.columns)\n",
    "X_test = pd.DataFrame(data=scaler.transform(test_data_to_scale), columns=test_data_to_scale.columns)\n",
    "\n",
    "y_train = train['IsAlert']\n",
    "y_test = test['IsAlert']"
   ]
  },
  {
   "cell_type": "markdown",
   "metadata": {},
   "source": [
    "## Decision tree classifier"
   ]
  },
  {
   "cell_type": "code",
   "execution_count": 36,
   "metadata": {},
   "outputs": [],
   "source": [
    "# Decision tree\n",
    "from sklearn.tree import DecisionTreeClassifier"
   ]
  },
  {
   "cell_type": "code",
   "execution_count": 37,
   "metadata": {
    "collapsed": true
   },
   "outputs": [],
   "source": [
    "dtree = DecisionTreeClassifier()"
   ]
  },
  {
   "cell_type": "code",
   "execution_count": 48,
   "metadata": {},
   "outputs": [
    {
     "data": {
      "text/plain": [
       "DecisionTreeClassifier(class_weight=None, criterion='gini', max_depth=None,\n",
       "            max_features=None, max_leaf_nodes=None,\n",
       "            min_impurity_split=1e-07, min_samples_leaf=1,\n",
       "            min_samples_split=2, min_weight_fraction_leaf=0.0,\n",
       "            presort=False, random_state=None, splitter='best')"
      ]
     },
     "execution_count": 48,
     "metadata": {},
     "output_type": "execute_result"
    }
   ],
   "source": [
    "dtree.fit(X_train, y_train)"
   ]
  },
  {
   "cell_type": "markdown",
   "metadata": {},
   "source": [
    "## Testing the tree"
   ]
  },
  {
   "cell_type": "code",
   "execution_count": 74,
   "metadata": {
    "collapsed": true
   },
   "outputs": [],
   "source": [
    "preds = dtree.predict(X_test)"
   ]
  },
  {
   "cell_type": "code",
   "execution_count": 75,
   "metadata": {},
   "outputs": [
    {
     "data": {
      "text/plain": [
       "array([1, 1, 1, ..., 1, 1, 1])"
      ]
     },
     "execution_count": 75,
     "metadata": {},
     "output_type": "execute_result"
    }
   ],
   "source": [
    "preds"
   ]
  },
  {
   "cell_type": "markdown",
   "metadata": {},
   "source": [
    "## Evaluating the tree"
   ]
  },
  {
   "cell_type": "code",
   "execution_count": 76,
   "metadata": {
    "collapsed": true
   },
   "outputs": [],
   "source": [
    "from sklearn.metrics import classification_report, confusion_matrix"
   ]
  },
  {
   "cell_type": "code",
   "execution_count": 77,
   "metadata": {},
   "outputs": [
    {
     "name": "stdout",
     "output_type": "stream",
     "text": [
      "             precision    recall  f1-score   support\n",
      "\n",
      "          0       0.38      0.69      0.49     29914\n",
      "          1       0.86      0.63      0.73     90926\n",
      "\n",
      "avg / total       0.74      0.64      0.67    120840\n",
      "\n"
     ]
    }
   ],
   "source": [
    "print(classification_report(solution['Prediction'], preds))"
   ]
  },
  {
   "cell_type": "code",
   "execution_count": 78,
   "metadata": {},
   "outputs": [
    {
     "name": "stdout",
     "output_type": "stream",
     "text": [
      "[[20518  9396]\n",
      " [33646 57280]]\n"
     ]
    }
   ],
   "source": [
    "print(confusion_matrix(solution['Prediction'], preds))"
   ]
  },
  {
   "cell_type": "markdown",
   "metadata": {},
   "source": [
    "## Random forest classifier"
   ]
  },
  {
   "cell_type": "code",
   "execution_count": 53,
   "metadata": {
    "collapsed": true
   },
   "outputs": [],
   "source": [
    "# Random forest\n",
    "from sklearn.ensemble import RandomForestClassifier"
   ]
  },
  {
   "cell_type": "code",
   "execution_count": 62,
   "metadata": {
    "collapsed": true
   },
   "outputs": [],
   "source": [
    "rfc = RandomForestClassifier(n_estimators=100)"
   ]
  },
  {
   "cell_type": "code",
   "execution_count": 63,
   "metadata": {},
   "outputs": [
    {
     "data": {
      "text/plain": [
       "RandomForestClassifier(bootstrap=True, class_weight=None, criterion='gini',\n",
       "            max_depth=None, max_features='auto', max_leaf_nodes=None,\n",
       "            min_impurity_split=1e-07, min_samples_leaf=1,\n",
       "            min_samples_split=2, min_weight_fraction_leaf=0.0,\n",
       "            n_estimators=100, n_jobs=1, oob_score=False, random_state=None,\n",
       "            verbose=0, warm_start=False)"
      ]
     },
     "execution_count": 63,
     "metadata": {},
     "output_type": "execute_result"
    }
   ],
   "source": [
    "rfc.fit(X_train, y_train)"
   ]
  },
  {
   "cell_type": "markdown",
   "metadata": {},
   "source": [
    "## Testing the forest"
   ]
  },
  {
   "cell_type": "code",
   "execution_count": 80,
   "metadata": {
    "collapsed": true
   },
   "outputs": [],
   "source": [
    "preds = rfc.predict(X_test)"
   ]
  },
  {
   "cell_type": "markdown",
   "metadata": {},
   "source": [
    "## Evaluating the forest"
   ]
  },
  {
   "cell_type": "code",
   "execution_count": 65,
   "metadata": {},
   "outputs": [
    {
     "name": "stdout",
     "output_type": "stream",
     "text": [
      "             precision    recall  f1-score   support\n",
      "\n",
      "          0       0.99      0.53      0.69     29914\n",
      "          1       0.87      1.00      0.93     90926\n",
      "\n",
      "avg / total       0.90      0.88      0.87    120840\n",
      "\n"
     ]
    }
   ],
   "source": [
    "print(classification_report(solution['Prediction'], preds))"
   ]
  },
  {
   "cell_type": "code",
   "execution_count": 66,
   "metadata": {},
   "outputs": [
    {
     "name": "stdout",
     "output_type": "stream",
     "text": [
      "[[15823 14091]\n",
      " [  207 90719]]\n"
     ]
    }
   ],
   "source": [
    "print(confusion_matrix(solution['Prediction'], preds))"
   ]
  }
 ],
 "metadata": {
  "kernelspec": {
   "display_name": "Python 3",
   "language": "python",
   "name": "python3"
  },
  "language_info": {
   "codemirror_mode": {
    "name": "ipython",
    "version": 3
   },
   "file_extension": ".py",
   "mimetype": "text/x-python",
   "name": "python",
   "nbconvert_exporter": "python",
   "pygments_lexer": "ipython3",
   "version": "3.6.1"
  }
 },
 "nbformat": 4,
 "nbformat_minor": 2
}
